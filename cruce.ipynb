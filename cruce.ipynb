{
 "cells": [
  {
   "cell_type": "code",
   "execution_count": null,
   "id": "d8db3c58",
   "metadata": {},
   "outputs": [],
   "source": [
    "import numpy as np\n",
    "import pandas as pd"
   ]
  },
  {
   "cell_type": "code",
   "execution_count": null,
   "id": "cacd4cc8",
   "metadata": {},
   "outputs": [],
   "source": [
    "base = pd.read_csv('PFTIT597 - 2025-04-01.CSV', sep=';', encoding='latin1')\n",
    "base.drop(index=0, inplace=True)\n",
    "base.columns = base.columns.str.strip().str.replace(' ', '', regex=False)\n",
    "base.reset_index(drop=True, inplace=True)\n",
    "base\n",
    "\n",
    "#SX\n",
    "SX = pd.read_fwf('SX033125.001', widths=[7, 13, 12, 19, 8, 8, 10, 7, 4, 30, 11, 27, 31, 83], header=None)\n",
    "SX.drop(index=0, inplace=True)\n",
    "SX.drop(columns=0, inplace=True)\n",
    "SX.columns = ['A', 'id', 'B', 'C', 'fecha', 'D', 'E', 'F', 'G', 'importe', 'H', 'I', 'J']\n",
    "\n",
    "# SW - Cod. Bolsa\n",
    "SW = pd.read_fwf('SW033125.002', widths=[18, 12, 18], header=None)\n",
    "SW.drop(index=0, inplace=True)\n",
    "SW.columns = ['id', 'fecha', 'importe']\n",
    "SW['id'] = SW['id'].str[7:]\n",
    "SW['importe'] = SW['importe'].str[6:]\n",
    "SW['importe'] = SW['importe'].astype(str).str.lstrip('0').replace('', '0').astype(float)\n",
    "\n",
    "# MX - PRECIO SUCIO\n",
    "MX = pd.read_csv('MX033125.txt', sep=',', encoding='latin1')\n",
    "\n",
    "# titulos_participativos_valoracion\n",
    "titulos = pd.read_fwf('titulos_participativos_valoracion_20250331.txt', widths=[19, 12, 20], header=None)\n",
    "titulos.columns = ['id', 'fecha', 'importe']\n",
    "titulos['importe'] = titulos['importe'].apply(lambda x: f\"{x:.6f}\")\n",
    "titulos['id'] = titulos['id'].str[7:]"
   ]
  },
  {
   "cell_type": "code",
   "execution_count": null,
   "id": "81132f71",
   "metadata": {},
   "outputs": [],
   "source": [
    "# SW\n",
    "base['CHECK_SW COD BOLSA'] = pd.to_numeric(base['Cod.Bolsa'].map(SW.set_index('id')['importe']), errors='coerce').fillna(0)\n",
    "\n",
    "# MX - TITULOS - SX\n",
    "base['CHECK ORIGEN'] = np.nan\n",
    "base['CHECK ISIN'] = np.nan\n",
    "\n",
    "base.loc[base['ISIN'].isin(MX['ISIN']), 'CHECK ORIGEN'] = 'MX'\n",
    "base.loc[base['ISIN'].isin(titulos['id']), 'CHECK ORIGEN'] = base['CHECK ORIGEN'].fillna('') + ' titulos'\n",
    "base.loc[base['ISIN'].isin(SX['id']), 'CHECK ORIGEN'] = base['CHECK ORIGEN'].fillna('') + ' SX'\n",
    "\n",
    "base['CHECK ORIGEN'] = base['CHECK ORIGEN'].str.strip()\n",
    "base['CHECK ISIN'] = pd.Series(dtype='float')\n",
    "\n",
    "mx_map = MX.set_index('ISIN')['Precio Sucio']\n",
    "base.loc[base['ISIN'].isin(mx_map.index), 'CHECK ISIN'] = pd.to_numeric(base['ISIN'].map(mx_map), errors='coerce')\n",
    "\n",
    "titulos_map = titulos.set_index('id')['importe']\n",
    "base.loc[base['CHECK ISIN'].isna() & base['ISIN'].isin(titulos_map.index), 'CHECK ISIN'] = pd.to_numeric(base['ISIN'].map(titulos_map), errors='coerce')\n",
    "\n",
    "sx_map = SX.set_index('id')['importe']\n",
    "base.loc[base['CHECK ISIN'].isna() & base['ISIN'].isin(sx_map.index), 'CHECK ISIN'] = pd.to_numeric(base['ISIN'].map(sx_map), errors='coerce')\n",
    "\n",
    "base['CHECK ISIN'] = base['CHECK ISIN'].fillna(0)"
   ]
  },
  {
   "cell_type": "code",
   "execution_count": null,
   "id": "103cbb8d",
   "metadata": {},
   "outputs": [],
   "source": [
    "# CHECK DE ARCHIVO DE ORIGEN\n",
    "origen_codigos = 'SX'\n",
    "base[base['CHECK ORIGEN'] == origen_codigos]['ISIN'].dropna().unique()"
   ]
  }
 ],
 "metadata": {
  "language_info": {
   "name": "python"
  }
 },
 "nbformat": 4,
 "nbformat_minor": 5
}
